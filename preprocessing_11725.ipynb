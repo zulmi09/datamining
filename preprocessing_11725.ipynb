{
  "nbformat": 4,
  "nbformat_minor": 0,
  "metadata": {
    "colab": {
      "name": "preprocessing_11725.ipynb",
      "provenance": [],
      "authorship_tag": "ABX9TyMriUN+7VWspkAsC2kfwgoF",
      "include_colab_link": true
    },
    "kernelspec": {
      "name": "python3",
      "display_name": "Python 3"
    },
    "language_info": {
      "name": "python"
    },
    "accelerator": "GPU"
  },
  "cells": [
    {
      "cell_type": "markdown",
      "metadata": {
        "id": "view-in-github",
        "colab_type": "text"
      },
      "source": [
        "<a href=\"https://colab.research.google.com/github/zulmi09/datamining/blob/main/preprocessing_11725.ipynb\" target=\"_parent\"><img src=\"https://colab.research.google.com/assets/colab-badge.svg\" alt=\"Open In Colab\"/></a>"
      ]
    },
    {
      "cell_type": "code",
      "execution_count": 16,
      "metadata": {
        "id": "ErpWbsE9at7P"
      },
      "outputs": [],
      "source": [
        "import numpy as np\n",
        "import matplotlib.pyplot as plt\n",
        "import pandas as pd\n",
        "\n"
      ]
    },
    {
      "cell_type": "code",
      "source": [
        "dataset = pd.read_csv('Data.csv')\n",
        "x = dataset.iloc[:, :-1].values\n",
        "y = dataset.iloc[:, -1].values"
      ],
      "metadata": {
        "id": "FOOx15CucR4f"
      },
      "execution_count": 17,
      "outputs": []
    },
    {
      "cell_type": "code",
      "source": [
        "print(x)"
      ],
      "metadata": {
        "colab": {
          "base_uri": "https://localhost:8080/"
        },
        "id": "ZQ0hWM4hc7K3",
        "outputId": "9c8aec71-ac87-4495-aa97-50ab73e822a4"
      },
      "execution_count": 18,
      "outputs": [
        {
          "output_type": "stream",
          "name": "stdout",
          "text": [
            "[['keyboard' 5.0 475000.0]\n",
            " ['mouse' 4.0 120000.0]\n",
            " ['tinta printer' 4.0 nan]\n",
            " ['flashdisk 32gb' 3.0 210000.0]\n",
            " ['flashdisk 64gb' 3.0 255000.0]\n",
            " ['speaker' 2.0 160000.0]\n",
            " ['motherboard' 2.0 300000.0]\n",
            " ['headphone' nan 180000.0]\n",
            " ['webcam' 2.0 200000.0]\n",
            " ['harddisk' 2.0 320000.0]]\n"
          ]
        }
      ]
    },
    {
      "cell_type": "code",
      "source": [
        "print(y)"
      ],
      "metadata": {
        "colab": {
          "base_uri": "https://localhost:8080/"
        },
        "id": "5N3emDaec9xd",
        "outputId": "c8dd37eb-7d21-4ff5-d52d-ce649c05a27e"
      },
      "execution_count": 19,
      "outputs": [
        {
          "output_type": "stream",
          "name": "stdout",
          "text": [
            "[' yes;;;;' ' yes;;;;' 'yes;;;;' ' no;;;;' ' no;;;;' ' yes;;;;' ' no;;;;'\n",
            " ' yes;;;;' ' no;;;;' 'no;;;;']\n"
          ]
        }
      ]
    },
    {
      "cell_type": "code",
      "source": [
        "from sklearn.impute import SimpleImputer\n",
        "imputer = SimpleImputer (missing_values=np.nan, strategy = 'mean')\n",
        "imputer.fit(x[:, 1:3])\n",
        "x[:, 1:3] = imputer.transform(x[:, 1:3])"
      ],
      "metadata": {
        "id": "SaMmRwtodB1N"
      },
      "execution_count": 20,
      "outputs": []
    },
    {
      "cell_type": "code",
      "source": [
        "print(x)"
      ],
      "metadata": {
        "colab": {
          "base_uri": "https://localhost:8080/"
        },
        "id": "HWozl4JZd-82",
        "outputId": "c9dcc5ff-835b-485e-83ea-ecaf117acbeb"
      },
      "execution_count": 21,
      "outputs": [
        {
          "output_type": "stream",
          "name": "stdout",
          "text": [
            "[['keyboard' 5.0 475000.0]\n",
            " ['mouse' 4.0 120000.0]\n",
            " ['tinta printer' 4.0 246666.66666666666]\n",
            " ['flashdisk 32gb' 3.0 210000.0]\n",
            " ['flashdisk 64gb' 3.0 255000.0]\n",
            " ['speaker' 2.0 160000.0]\n",
            " ['motherboard' 2.0 300000.0]\n",
            " ['headphone' 3.0 180000.0]\n",
            " ['webcam' 2.0 200000.0]\n",
            " ['harddisk' 2.0 320000.0]]\n"
          ]
        }
      ]
    },
    {
      "cell_type": "code",
      "source": [
        "from sklearn.compose import ColumnTransformer\n",
        "from sklearn.preprocessing import OneHotEncoder\n",
        "ct = ColumnTransformer(transformers=[('encoder', OneHotEncoder(), [0])], remainder='passthrough')\n",
        "x = ct.fit_transform(x).toarray()"
      ],
      "metadata": {
        "id": "kCY2Keu2eFFx"
      },
      "execution_count": 25,
      "outputs": []
    },
    {
      "cell_type": "code",
      "source": [
        "print(x)"
      ],
      "metadata": {
        "colab": {
          "base_uri": "https://localhost:8080/"
        },
        "id": "OcEyWKnZfl5A",
        "outputId": "fc3e9d93-1b63-4ddf-d25d-248ede58f2d6"
      },
      "execution_count": 27,
      "outputs": [
        {
          "output_type": "stream",
          "name": "stdout",
          "text": [
            "[[0.00000000e+00 0.00000000e+00 0.00000000e+00 0.00000000e+00\n",
            "  1.00000000e+00 0.00000000e+00 0.00000000e+00 0.00000000e+00\n",
            "  0.00000000e+00 0.00000000e+00 5.00000000e+00 4.75000000e+05]\n",
            " [0.00000000e+00 0.00000000e+00 0.00000000e+00 0.00000000e+00\n",
            "  0.00000000e+00 0.00000000e+00 1.00000000e+00 0.00000000e+00\n",
            "  0.00000000e+00 0.00000000e+00 4.00000000e+00 1.20000000e+05]\n",
            " [0.00000000e+00 0.00000000e+00 0.00000000e+00 0.00000000e+00\n",
            "  0.00000000e+00 0.00000000e+00 0.00000000e+00 0.00000000e+00\n",
            "  1.00000000e+00 0.00000000e+00 4.00000000e+00 2.46666667e+05]\n",
            " [1.00000000e+00 0.00000000e+00 0.00000000e+00 0.00000000e+00\n",
            "  0.00000000e+00 0.00000000e+00 0.00000000e+00 0.00000000e+00\n",
            "  0.00000000e+00 0.00000000e+00 3.00000000e+00 2.10000000e+05]\n",
            " [0.00000000e+00 1.00000000e+00 0.00000000e+00 0.00000000e+00\n",
            "  0.00000000e+00 0.00000000e+00 0.00000000e+00 0.00000000e+00\n",
            "  0.00000000e+00 0.00000000e+00 3.00000000e+00 2.55000000e+05]\n",
            " [0.00000000e+00 0.00000000e+00 0.00000000e+00 0.00000000e+00\n",
            "  0.00000000e+00 0.00000000e+00 0.00000000e+00 1.00000000e+00\n",
            "  0.00000000e+00 0.00000000e+00 2.00000000e+00 1.60000000e+05]\n",
            " [0.00000000e+00 0.00000000e+00 0.00000000e+00 0.00000000e+00\n",
            "  0.00000000e+00 1.00000000e+00 0.00000000e+00 0.00000000e+00\n",
            "  0.00000000e+00 0.00000000e+00 2.00000000e+00 3.00000000e+05]\n",
            " [0.00000000e+00 0.00000000e+00 0.00000000e+00 1.00000000e+00\n",
            "  0.00000000e+00 0.00000000e+00 0.00000000e+00 0.00000000e+00\n",
            "  0.00000000e+00 0.00000000e+00 3.00000000e+00 1.80000000e+05]\n",
            " [0.00000000e+00 0.00000000e+00 0.00000000e+00 0.00000000e+00\n",
            "  0.00000000e+00 0.00000000e+00 0.00000000e+00 0.00000000e+00\n",
            "  0.00000000e+00 1.00000000e+00 2.00000000e+00 2.00000000e+05]\n",
            " [0.00000000e+00 0.00000000e+00 1.00000000e+00 0.00000000e+00\n",
            "  0.00000000e+00 0.00000000e+00 0.00000000e+00 0.00000000e+00\n",
            "  0.00000000e+00 0.00000000e+00 2.00000000e+00 3.20000000e+05]]\n"
          ]
        }
      ]
    },
    {
      "cell_type": "code",
      "source": [
        "from sklearn.preprocessing import LabelEncoder\n",
        "le = LabelEncoder()\n",
        "y = le.fit_transform(y)"
      ],
      "metadata": {
        "id": "Wih3SmSBfq2o"
      },
      "execution_count": 28,
      "outputs": []
    },
    {
      "cell_type": "code",
      "source": [
        "print(y)"
      ],
      "metadata": {
        "colab": {
          "base_uri": "https://localhost:8080/"
        },
        "id": "40Ei7EUhf4cM",
        "outputId": "b5891114-8f0c-4c30-b98b-6330add2d601"
      },
      "execution_count": 29,
      "outputs": [
        {
          "output_type": "stream",
          "name": "stdout",
          "text": [
            "[1 1 3 0 0 1 0 1 0 2]\n"
          ]
        }
      ]
    },
    {
      "cell_type": "code",
      "source": [
        "from sklearn.model_selection import train_test_split\n",
        "x_train, x_test, y_train, y_test = train_test_split(x, y, test_size = 0.2, random_state = 1)"
      ],
      "metadata": {
        "id": "l0vAcUbXf9iz"
      },
      "execution_count": 31,
      "outputs": []
    },
    {
      "cell_type": "code",
      "source": [
        "print(x_train)"
      ],
      "metadata": {
        "colab": {
          "base_uri": "https://localhost:8080/"
        },
        "id": "s33VSpbzg9_g",
        "outputId": "8941217c-0497-4419-dcfc-7e6399517894"
      },
      "execution_count": 33,
      "outputs": [
        {
          "output_type": "stream",
          "name": "stdout",
          "text": [
            "[[0.00e+00 0.00e+00 0.00e+00 0.00e+00 0.00e+00 1.00e+00 0.00e+00 0.00e+00\n",
            "  0.00e+00 0.00e+00 2.00e+00 3.00e+05]\n",
            " [0.00e+00 1.00e+00 0.00e+00 0.00e+00 0.00e+00 0.00e+00 0.00e+00 0.00e+00\n",
            "  0.00e+00 0.00e+00 3.00e+00 2.55e+05]\n",
            " [0.00e+00 0.00e+00 0.00e+00 0.00e+00 1.00e+00 0.00e+00 0.00e+00 0.00e+00\n",
            "  0.00e+00 0.00e+00 5.00e+00 4.75e+05]\n",
            " [1.00e+00 0.00e+00 0.00e+00 0.00e+00 0.00e+00 0.00e+00 0.00e+00 0.00e+00\n",
            "  0.00e+00 0.00e+00 3.00e+00 2.10e+05]\n",
            " [0.00e+00 0.00e+00 0.00e+00 0.00e+00 0.00e+00 0.00e+00 1.00e+00 0.00e+00\n",
            "  0.00e+00 0.00e+00 4.00e+00 1.20e+05]\n",
            " [0.00e+00 0.00e+00 0.00e+00 1.00e+00 0.00e+00 0.00e+00 0.00e+00 0.00e+00\n",
            "  0.00e+00 0.00e+00 3.00e+00 1.80e+05]\n",
            " [0.00e+00 0.00e+00 0.00e+00 0.00e+00 0.00e+00 0.00e+00 0.00e+00 0.00e+00\n",
            "  0.00e+00 1.00e+00 2.00e+00 2.00e+05]\n",
            " [0.00e+00 0.00e+00 0.00e+00 0.00e+00 0.00e+00 0.00e+00 0.00e+00 1.00e+00\n",
            "  0.00e+00 0.00e+00 2.00e+00 1.60e+05]]\n"
          ]
        }
      ]
    },
    {
      "cell_type": "code",
      "source": [
        "print(x_test)"
      ],
      "metadata": {
        "colab": {
          "base_uri": "https://localhost:8080/"
        },
        "id": "l_pbEgzGhEL4",
        "outputId": "98300f1b-0c04-4dc1-8d22-9cc674ff5883"
      },
      "execution_count": 34,
      "outputs": [
        {
          "output_type": "stream",
          "name": "stdout",
          "text": [
            "[[0.00000000e+00 0.00000000e+00 0.00000000e+00 0.00000000e+00\n",
            "  0.00000000e+00 0.00000000e+00 0.00000000e+00 0.00000000e+00\n",
            "  1.00000000e+00 0.00000000e+00 4.00000000e+00 2.46666667e+05]\n",
            " [0.00000000e+00 0.00000000e+00 1.00000000e+00 0.00000000e+00\n",
            "  0.00000000e+00 0.00000000e+00 0.00000000e+00 0.00000000e+00\n",
            "  0.00000000e+00 0.00000000e+00 2.00000000e+00 3.20000000e+05]]\n"
          ]
        }
      ]
    },
    {
      "cell_type": "code",
      "source": [
        "print(y_train)"
      ],
      "metadata": {
        "colab": {
          "base_uri": "https://localhost:8080/"
        },
        "id": "yOcP1jP-hKU3",
        "outputId": "785f5166-ed86-4952-a49a-a92b1ec1e174"
      },
      "execution_count": 35,
      "outputs": [
        {
          "output_type": "stream",
          "name": "stdout",
          "text": [
            "[0 0 1 0 1 1 0 1]\n"
          ]
        }
      ]
    },
    {
      "cell_type": "code",
      "source": [
        "print(y_test)"
      ],
      "metadata": {
        "colab": {
          "base_uri": "https://localhost:8080/"
        },
        "id": "F9OjCCrFhNAS",
        "outputId": "ecafce08-6328-49d4-f718-b0afdd103b5b"
      },
      "execution_count": 36,
      "outputs": [
        {
          "output_type": "stream",
          "name": "stdout",
          "text": [
            "[3 2]\n"
          ]
        }
      ]
    },
    {
      "cell_type": "code",
      "source": [
        "from sklearn.preprocessing import StandardScaler\n",
        "sc = StandardScaler()\n",
        "x_train[:, 3:] = sc.fit_transform(x_train[:, 3:])\n",
        "x_test[:, 3:] = sc.transform(x_test[:, 3:])"
      ],
      "metadata": {
        "id": "NNEqagsohO-W"
      },
      "execution_count": 37,
      "outputs": []
    },
    {
      "cell_type": "code",
      "source": [
        "print(x_train)"
      ],
      "metadata": {
        "colab": {
          "base_uri": "https://localhost:8080/"
        },
        "id": "toSa_Fq9kA0w",
        "outputId": "6e78f76b-b7e3-4418-d273-848601b81aad"
      },
      "execution_count": 38,
      "outputs": [
        {
          "output_type": "stream",
          "name": "stdout",
          "text": [
            "[[ 0.          0.          0.         -0.37796447 -0.37796447  2.64575131\n",
            "  -0.37796447 -0.37796447  0.         -0.37796447 -1.          0.6031543 ]\n",
            " [ 0.          1.          0.         -0.37796447 -0.37796447 -0.37796447\n",
            "  -0.37796447 -0.37796447  0.         -0.37796447  0.          0.1688832 ]\n",
            " [ 0.          0.          0.         -0.37796447  2.64575131 -0.37796447\n",
            "  -0.37796447 -0.37796447  0.         -0.37796447  2.          2.29198634]\n",
            " [ 1.          0.          0.         -0.37796447 -0.37796447 -0.37796447\n",
            "  -0.37796447 -0.37796447  0.         -0.37796447  0.         -0.26538789]\n",
            " [ 0.          0.          0.         -0.37796447 -0.37796447 -0.37796447\n",
            "   2.64575131 -0.37796447  0.         -0.37796447  1.         -1.13393009]\n",
            " [ 0.          0.          0.          2.64575131 -0.37796447 -0.37796447\n",
            "  -0.37796447 -0.37796447  0.         -0.37796447  0.         -0.55490196]\n",
            " [ 0.          0.          0.         -0.37796447 -0.37796447 -0.37796447\n",
            "  -0.37796447 -0.37796447  0.          2.64575131 -1.         -0.36189258]\n",
            " [ 0.          0.          0.         -0.37796447 -0.37796447 -0.37796447\n",
            "  -0.37796447  2.64575131  0.         -0.37796447 -1.         -0.74791133]]\n"
          ]
        }
      ]
    },
    {
      "cell_type": "code",
      "source": [
        "print(x_test)"
      ],
      "metadata": {
        "colab": {
          "base_uri": "https://localhost:8080/"
        },
        "id": "Ln7yjVRDkC_l",
        "outputId": "2c191842-38b2-4e5b-976a-ebc1a917b599"
      },
      "execution_count": 39,
      "outputs": [
        {
          "output_type": "stream",
          "name": "stdout",
          "text": [
            "[[ 0.          0.          0.         -0.37796447 -0.37796447 -0.37796447\n",
            "  -0.37796447 -0.37796447  1.         -0.37796447  1.          0.08846263]\n",
            " [ 0.          0.          1.         -0.37796447 -0.37796447 -0.37796447\n",
            "  -0.37796447 -0.37796447  0.         -0.37796447 -1.          0.79616368]]\n"
          ]
        }
      ]
    }
  ]
}